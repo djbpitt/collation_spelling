{
 "cells": [
  {
   "cell_type": "markdown",
   "metadata": {
    "collapsed": true
   },
   "source": [
    "### Add a property to the token for normalized forms to be used not in the alignment, but for interpretation in the analysis stage and then in the visualization."
   ]
  },
  {
   "cell_type": "markdown",
   "metadata": {},
   "source": [
    "## 0. No normalization"
   ]
  },
  {
   "cell_type": "code",
   "execution_count": 23,
   "metadata": {
    "scrolled": false
   },
   "outputs": [
    {
     "data": {
      "text/html": [
       "<TABLE border=\"1\" style=\"border: 1px solid #000000; border-collapse: collapse;\" cellpadding=\"4\">\n",
       " <TR>\n",
       "  <TH>W1</TH>\n",
       "  <TH>W2</TH>\n",
       "  <TH>W3</TH>\n",
       "  <TH>W4</TH>\n",
       " </TR>\n",
       " <TR>\n",
       "  <TD bgcolor=\"FF5000\">Lors</TD>\n",
       "  <TD bgcolor=\"FF5000\">Lors</TD>\n",
       "  <TD bgcolor=\"FF5000\">Lors</TD>\n",
       "  <TD bgcolor=\"FF5000\">Adonc</TD>\n",
       " </TR>\n",
       " <TR>\n",
       "  <TD bgcolor=\"FF5000\">conte</TD>\n",
       "  <TD bgcolor=\"FF5000\">conte</TD>\n",
       "  <TD bgcolor=\"FF5000\">conte</TD>\n",
       "  <TD bgcolor=\"FF5000\">-</TD>\n",
       " </TR>\n",
       " <TR>\n",
       "  <TD bgcolor=\"00FFFF\">li</TD>\n",
       "  <TD bgcolor=\"00FFFF\">li</TD>\n",
       "  <TD bgcolor=\"00FFFF\">li</TD>\n",
       "  <TD bgcolor=\"00FFFF\">li</TD>\n",
       " </TR>\n",
       " <TR>\n",
       "  <TD bgcolor=\"FF5000\">rois</TD>\n",
       "  <TD bgcolor=\"FF5000\">rois</TD>\n",
       "  <TD bgcolor=\"FF5000\">rois</TD>\n",
       "  <TD bgcolor=\"FF5000\">-</TD>\n",
       " </TR>\n",
       " <TR>\n",
       "  <TD bgcolor=\"FF5000\">a</TD>\n",
       "  <TD bgcolor=\"FF5000\">a</TD>\n",
       "  <TD bgcolor=\"FF5000\">a</TD>\n",
       "  <TD bgcolor=\"FF5000\">-</TD>\n",
       " </TR>\n",
       " <TR>\n",
       "  <TD bgcolor=\"FF5000\">la</TD>\n",
       "  <TD bgcolor=\"FF5000\">la</TD>\n",
       "  <TD bgcolor=\"FF5000\">la</TD>\n",
       "  <TD bgcolor=\"FF5000\">-</TD>\n",
       " </TR>\n",
       " <TR>\n",
       "  <TD bgcolor=\"FF5000\">reine</TD>\n",
       "  <TD bgcolor=\"FF5000\">reine</TD>\n",
       "  <TD bgcolor=\"FF5000\">roine</TD>\n",
       "  <TD bgcolor=\"FF5000\">-</TD>\n",
       " </TR>\n",
       " <TR>\n",
       "  <TD bgcolor=\"FF5000\">coment</TD>\n",
       "  <TD bgcolor=\"FF5000\">comment</TD>\n",
       "  <TD bgcolor=\"FF5000\">coment</TD>\n",
       "  <TD bgcolor=\"FF5000\">comment</TD>\n",
       " </TR>\n",
       " <TR>\n",
       "  <TD bgcolor=\"00FFFF\">la</TD>\n",
       "  <TD bgcolor=\"00FFFF\">la</TD>\n",
       "  <TD bgcolor=\"00FFFF\">la</TD>\n",
       "  <TD bgcolor=\"00FFFF\">la</TD>\n",
       " </TR>\n",
       " <TR>\n",
       "  <TD bgcolor=\"00FFFF\">dame</TD>\n",
       "  <TD bgcolor=\"00FFFF\">dame</TD>\n",
       "  <TD bgcolor=\"00FFFF\">dame</TD>\n",
       "  <TD bgcolor=\"00FFFF\">dame</TD>\n",
       " </TR>\n",
       " <TR>\n",
       "  <TD bgcolor=\"FF5000\">del</TD>\n",
       "  <TD bgcolor=\"FF5000\">del</TD>\n",
       "  <TD bgcolor=\"FF5000\">del</TD>\n",
       "  <TD bgcolor=\"FF5000\">du</TD>\n",
       " </TR>\n",
       " <TR>\n",
       "  <TD bgcolor=\"00FFFF\">lac</TD>\n",
       "  <TD bgcolor=\"00FFFF\">lac</TD>\n",
       "  <TD bgcolor=\"00FFFF\">lac</TD>\n",
       "  <TD bgcolor=\"00FFFF\">lac</TD>\n",
       " </TR>\n",
       "</TABLE>"
      ],
      "text/plain": [
       "<IPython.core.display.HTML object>"
      ]
     },
     "metadata": {},
     "output_type": "display_data"
    },
    {
     "name": "stdout",
     "output_type": "stream",
     "text": [
      "None\n"
     ]
    }
   ],
   "source": [
    "from collatex import *\n",
    "collation = Collation()\n",
    "W1 = open( \"data/example4/W1.txt\", encoding='utf-8' ).read()\n",
    "W2 = open( \"data/example4/W2.txt\", encoding='utf-8' ).read()\n",
    "W3 = open( \"data/example4/W3.txt\", encoding='utf-8' ).read()\n",
    "W4 = open( \"data/example4/W4.txt\", encoding='utf-8' ).read()\n",
    "collation.add_plain_witness( \"W1\", W1 )\n",
    "collation.add_plain_witness( \"W2\", W2 )\n",
    "collation.add_plain_witness( \"W3\", W3 )\n",
    "collation.add_plain_witness( \"W4\", W4 )\n",
    "table = collate(collation, output='html2', segmentation=False)\n",
    "print(table)"
   ]
  },
  {
   "cell_type": "markdown",
   "metadata": {},
   "source": [
    "\n",
    "## 1. Dictionary\n",
    "\n",
    "This method requires the manual creation of a dictionary. In this example, the dictionary is built with **three columns**: the first for the **original form**, the second for the **normalized form** to be used during the **alignment**, the third for the **normalized form** to be used in the **interpretation**, after the alignment and before the visualisation.\n",
    "The first column must have a value, while the second and third columns may stay empty."
   ]
  },
  {
   "cell_type": "code",
   "execution_count": 2,
   "metadata": {},
   "outputs": [
    {
     "name": "stdout",
     "output_type": "stream",
     "text": [
      "[{'t': 'Lors ', 'n': 'Lors', 'p': 'Lors'}, {'t': 'conte ', 'n': 'conte', 'p': 'conte'}, {'t': 'li ', 'n': 'la', 'p': ''}, {'t': 'rois ', 'n': 'rois', 'p': 'rois'}, {'t': 'a ', 'n': 'a', 'p': 'a'}, {'t': 'la ', 'n': 'la', 'p': 'la'}, {'t': 'reine ', 'n': 'reine', 'p': 'reine'}, {'t': 'coment ', 'n': 'coment', 'p': 'coment'}, {'t': 'la ', 'n': 'la', 'p': 'la'}, {'t': 'dame ', 'n': 'dame', 'p': 'dame'}, {'t': 'del ', 'n': 'del', 'p': 'del'}, {'t': 'lac\\n', 'n': 'lac', 'p': 'lac'}] [{'t': 'Lors ', 'n': 'Lors', 'p': 'Lors'}, {'t': 'conte ', 'n': 'conte', 'p': 'conte'}, {'t': 'li ', 'n': 'la', 'p': ''}, {'t': 'rois ', 'n': 'rois', 'p': 'rois'}, {'t': 'a ', 'n': 'a', 'p': 'a'}, {'t': 'la ', 'n': 'la', 'p': 'la'}, {'t': 'reine ', 'n': 'reine', 'p': 'reine'}, {'t': 'coment ', 'n': 'coment', 'p': 'coment'}, {'t': 'la ', 'n': 'la', 'p': 'la'}, {'t': 'dame ', 'n': 'dame', 'p': 'dame'}, {'t': 'del ', 'n': 'del', 'p': 'del'}, {'t': 'lac\\n', 'n': 'lac', 'p': 'lac'}] [{'t': 'Lors ', 'n': 'Lors', 'p': 'Lors'}, {'t': 'conte ', 'n': 'conte', 'p': 'conte'}, {'t': 'li ', 'n': 'la', 'p': ''}, {'t': 'rois ', 'n': 'rois', 'p': 'rois'}, {'t': 'a ', 'n': 'a', 'p': 'a'}, {'t': 'la ', 'n': 'la', 'p': 'la'}, {'t': 'roine ', 'n': '', 'p': 'reine'}, {'t': 'coment ', 'n': 'coment', 'p': 'coment'}, {'t': 'la ', 'n': 'la', 'p': 'la'}, {'t': 'dame ', 'n': 'dame', 'p': 'dame'}, {'t': 'del ', 'n': 'del', 'p': 'del'}, {'t': 'lac\\n', 'n': 'lac', 'p': 'lac'}] [{'t': 'Adonc ', 'n': 'Adonc', 'p': 'Adonc'}, {'t': 'li ', 'n': 'la', 'p': ''}, {'t': 'comment ', 'n': 'reine', 'p': ''}, {'t': 'la ', 'n': 'la', 'p': 'la'}, {'t': 'dame ', 'n': 'dame', 'p': 'dame'}, {'t': 'du ', 'n': '', 'p': 'del'}, {'t': 'lac\\n', 'n': 'lac', 'p': 'lac'}]\n"
     ]
    },
    {
     "data": {
      "text/html": [
       "<TABLE border=\"1\" style=\"border: 1px solid #000000; border-collapse: collapse;\" cellpadding=\"4\">\n",
       " <TR>\n",
       "  <TH>W1</TH>\n",
       "  <TH>W2</TH>\n",
       "  <TH>W3</TH>\n",
       "  <TH>W4</TH>\n",
       " </TR>\n",
       " <TR>\n",
       "  <TD bgcolor=\"FF5000\">Lors</TD>\n",
       "  <TD bgcolor=\"FF5000\">Lors</TD>\n",
       "  <TD bgcolor=\"FF5000\">Lors</TD>\n",
       "  <TD bgcolor=\"FF5000\">Adonc</TD>\n",
       " </TR>\n",
       " <TR>\n",
       "  <TD bgcolor=\"FF5000\">conte</TD>\n",
       "  <TD bgcolor=\"FF5000\">conte</TD>\n",
       "  <TD bgcolor=\"FF5000\">conte</TD>\n",
       "  <TD bgcolor=\"FF5000\">-</TD>\n",
       " </TR>\n",
       " <TR>\n",
       "  <TD bgcolor=\"FF5000\">li</TD>\n",
       "  <TD bgcolor=\"FF5000\">li</TD>\n",
       "  <TD bgcolor=\"FF5000\">li</TD>\n",
       "  <TD bgcolor=\"FF5000\">-</TD>\n",
       " </TR>\n",
       " <TR>\n",
       "  <TD bgcolor=\"FF5000\">rois</TD>\n",
       "  <TD bgcolor=\"FF5000\">rois</TD>\n",
       "  <TD bgcolor=\"FF5000\">rois</TD>\n",
       "  <TD bgcolor=\"FF5000\">-</TD>\n",
       " </TR>\n",
       " <TR>\n",
       "  <TD bgcolor=\"FF5000\">a</TD>\n",
       "  <TD bgcolor=\"FF5000\">a</TD>\n",
       "  <TD bgcolor=\"FF5000\">a</TD>\n",
       "  <TD bgcolor=\"FF5000\">-</TD>\n",
       " </TR>\n",
       " <TR>\n",
       "  <TD bgcolor=\"00FFFF\">la</TD>\n",
       "  <TD bgcolor=\"00FFFF\">la</TD>\n",
       "  <TD bgcolor=\"00FFFF\">la</TD>\n",
       "  <TD bgcolor=\"00FFFF\">li</TD>\n",
       " </TR>\n",
       " <TR>\n",
       "  <TD bgcolor=\"FF5000\">reine</TD>\n",
       "  <TD bgcolor=\"FF5000\">reine</TD>\n",
       "  <TD bgcolor=\"FF5000\">roine</TD>\n",
       "  <TD bgcolor=\"FF5000\">comment</TD>\n",
       " </TR>\n",
       " <TR>\n",
       "  <TD bgcolor=\"FF5000\">coment</TD>\n",
       "  <TD bgcolor=\"FF5000\">coment</TD>\n",
       "  <TD bgcolor=\"FF5000\">coment</TD>\n",
       "  <TD bgcolor=\"FF5000\">-</TD>\n",
       " </TR>\n",
       " <TR>\n",
       "  <TD bgcolor=\"00FFFF\">la</TD>\n",
       "  <TD bgcolor=\"00FFFF\">la</TD>\n",
       "  <TD bgcolor=\"00FFFF\">la</TD>\n",
       "  <TD bgcolor=\"00FFFF\">la</TD>\n",
       " </TR>\n",
       " <TR>\n",
       "  <TD bgcolor=\"00FFFF\">dame</TD>\n",
       "  <TD bgcolor=\"00FFFF\">dame</TD>\n",
       "  <TD bgcolor=\"00FFFF\">dame</TD>\n",
       "  <TD bgcolor=\"00FFFF\">dame</TD>\n",
       " </TR>\n",
       " <TR>\n",
       "  <TD bgcolor=\"FF5000\">del</TD>\n",
       "  <TD bgcolor=\"FF5000\">del</TD>\n",
       "  <TD bgcolor=\"FF5000\">del</TD>\n",
       "  <TD bgcolor=\"FF5000\">du</TD>\n",
       " </TR>\n",
       " <TR>\n",
       "  <TD bgcolor=\"00FFFF\">lac</TD>\n",
       "  <TD bgcolor=\"00FFFF\">lac</TD>\n",
       "  <TD bgcolor=\"00FFFF\">lac</TD>\n",
       "  <TD bgcolor=\"00FFFF\">lac</TD>\n",
       " </TR>\n",
       "</TABLE>"
      ],
      "text/plain": [
       "<IPython.core.display.HTML object>"
      ]
     },
     "metadata": {},
     "output_type": "display_data"
    }
   ],
   "source": [
    "import csv\n",
    "import re\n",
    "from collatex import *\n",
    "collation = Collation()\n",
    "\n",
    "# Create the dictionary (here 'dictionary_norm.csv') with three columns: the first for the original form, the second for the normalized form to be used during the alignment, the third for the normalized form to be used in the interpretation, after the alignment and before the visualisation. The first column must have a value, while the second and third columns may stay empty.\n",
    "# DUMB EXEMPLE, TO BE REPLACED WITH A REAL ONE\n",
    "Normit = {}\n",
    "with open('dictionary_norm.csv') as csvfile:\n",
    "    reader = csv.DictReader(csvfile, fieldnames=['Original', 'NormalisedAlignment', 'NormalisedInterpretation'],  dialect='excel')\n",
    "    for row in reader:\n",
    "        Normit[row['Original']]= row['NormalisedAlignment']\n",
    "        \n",
    "NormitInterpretation = {}\n",
    "with open('dictionary_norm.csv') as csvfile:\n",
    "    reader = csv.DictReader(csvfile, fieldnames=['Original', 'NormalisedAlignment', 'NormalisedInterpretation'],  dialect='excel')\n",
    "    for row in reader:\n",
    "        NormitInterpretation[row['Original']]= row['NormalisedInterpretation']\n",
    "\n",
    "from collatex.core_classes import WordPunctuationTokenizer\n",
    "tokenizer = WordPunctuationTokenizer()\n",
    "\n",
    "#read in the witnesses  from your file system \n",
    "W1 = open( \"data/example4/W1.txt\", encoding='utf-8' ).read()\n",
    "W2 = open( \"data/example4/W2.txt\", encoding='utf-8' ).read()\n",
    "W3 = open( \"data/example4/W3.txt\", encoding='utf-8' ).read()\n",
    "W4 = open( \"data/example4/W4.txt\", encoding='utf-8' ).read()\n",
    "\n",
    "# build a function to tokenize and to normalize by replace keys to be found in the dictionary by the corresponding values \n",
    "def tokennormalizer(witness) :\n",
    "    tokens_as_strings = tokenizer.tokenize(witness)\n",
    "    list = []\n",
    "    for token_string in tokens_as_strings:\n",
    "        normversion = re.sub(r'\\s+$',\"\", token_string)\n",
    "        replaceversion = Normit.get(normversion,normversion)\n",
    "        token_norm = NormitInterpretation.get(normversion,normversion)\n",
    "        list.append({'t':token_string, 'n':replaceversion, 'p':token_norm})\n",
    "    return(list)\n",
    "\n",
    "tokens_W1 = tokennormalizer(W1) \n",
    "tokens_W2 = tokennormalizer(W2) \n",
    "tokens_W3 = tokennormalizer(W3) \n",
    "tokens_W4 = tokennormalizer(W4) \n",
    "#Print to check what's in the properties; can be deleted once we can visualize it. Can check also in the collation with json output.\n",
    "print(tokens_W1, tokens_W2, tokens_W3, tokens_W4)\n",
    " \n",
    "witness_W1 = { \"id\": \"W1\", \"tokens\":tokens_W1 }\n",
    "witness_W2 = { \"id\": \"W2\", \"tokens\":tokens_W2 }\n",
    "witness_W3 = { \"id\": \"W3\", \"tokens\":tokens_W3 }\n",
    "witness_W4 = { \"id\": \"W4\", \"tokens\":tokens_W4 }\n",
    "\n",
    "\n",
    "input = { \"witnesses\": [ witness_W1, witness_W2, witness_W3, witness_W4 ] }\n",
    "\n",
    "table = collate(input, output='html2', segmentation=False)"
   ]
  },
  {
   "cell_type": "code",
   "execution_count": null,
   "metadata": {
    "collapsed": true
   },
   "outputs": [],
   "source": []
  }
 ],
 "metadata": {
  "kernelspec": {
   "display_name": "Python 3",
   "language": "python",
   "name": "python3"
  },
  "language_info": {
   "codemirror_mode": {
    "name": "ipython",
    "version": 3
   },
   "file_extension": ".py",
   "mimetype": "text/x-python",
   "name": "python",
   "nbconvert_exporter": "python",
   "pygments_lexer": "ipython3",
   "version": "3.6.3"
  }
 },
 "nbformat": 4,
 "nbformat_minor": 1
}
